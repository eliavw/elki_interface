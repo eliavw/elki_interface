{
 "cells": [
  {
   "cell_type": "markdown",
   "metadata": {
    "Collapsed": "false"
   },
   "source": [
    "# Docs\n",
    "\n",
    "Every good open source project at least consists of a bit of documentation. A part of this documentation is generated from decent docstrings you wrote together with your code.\n"
   ]
  },
  {
   "cell_type": "markdown",
   "metadata": {
    "Collapsed": "false"
   },
   "source": [
    "## Imports"
   ]
  },
  {
   "cell_type": "code",
   "execution_count": null,
   "metadata": {
    "Collapsed": "false"
   },
   "outputs": [],
   "source": [
    "import os\n",
    "from os.path import dirname\n",
    "\n",
    "import getpass\n",
    "import configparser\n",
    "import semantic_version"
   ]
  },
  {
   "cell_type": "markdown",
   "metadata": {
    "Collapsed": "false"
   },
   "source": [
    "## Initialization\n",
    "\n",
    "Some important variables to be used afterwards."
   ]
  },
  {
   "cell_type": "code",
   "execution_count": null,
   "metadata": {
    "Collapsed": "false"
   },
   "outputs": [],
   "source": [
    "name = \"elki_interface\"\n",
    "\n",
    "root_dir = dirname(dirname(os.getcwd()))\n",
    "docs_dir = os.path.join(root_dir, 'docs')"
   ]
  },
  {
   "cell_type": "markdown",
   "metadata": {
    "Collapsed": "false"
   },
   "source": [
    "# Tools\n",
    "\n",
    "We will use [Mkdocs](https://www.mkdocs.org/), with its [material](https://squidfunk.github.io/mkdocs-material/) theme. This generates very nice webpages and is -in my humble opinion- a bit more modern than Sphinx (which is also good!).\n",
    "\n",
    "The main upside of `mkdocs` is the fact that its source files are [markdown](https://en.wikipedia.org/wiki/Markdown), which is the most basic formatted text format there is. Readmes and even this deployment document are written in markdown itself. In that sense, we gain consistency, all the stuff that we want to communicate is written in markdown: \n",
    "\n",
    "- readme's in the repo\n",
    "- text cells in jupyter notebooks\n",
    "- source files for the documentation site\n",
    "\n",
    "Which means that we can write everything once, and link it together. All the formats are the same, hence trivially compatible."
   ]
  },
  {
   "cell_type": "markdown",
   "metadata": {
    "Collapsed": "false"
   },
   "source": [
    "# Automation\n",
    "\n",
    "I always work in notebooks (like this one), and I prefer to push this way of working as far as possible. Hence, any notebook written in `note/docs` or `note/tutorial` will be exported to a markdown document and added in the `docs` folder."
   ]
  },
  {
   "cell_type": "code",
   "execution_count": null,
   "metadata": {
    "Collapsed": "false"
   },
   "outputs": [],
   "source": [
    "%%bash -s \"$root_dir\" \"$name\" \"$docs_dir\"\n",
    "\n",
    "source ~/.bashrc\n",
    "cd $1\n",
    "conda activate $2\n",
    "\n",
    "cd note/tutorial\n",
    "\n",
    "jupyter nbconvert *.ipynb --to markdown --output-dir=$3"
   ]
  },
  {
   "cell_type": "markdown",
   "metadata": {
    "Collapsed": "false"
   },
   "source": [
    "# Workflow\n",
    "\n",
    "The cookiecutter already contains the [mkdocs.yml](../../mkdocs.yml) file, which is -unsurprisingly- the configuration file for your mkdocs project. Using this cookiecutter, you can focus on content. Alongside this configuration file, we also included a demo page; [index.md](../../docs/index.md), which is the home page of the documentation website. \n",
    "\n"
   ]
  },
  {
   "cell_type": "markdown",
   "metadata": {
    "Collapsed": "false"
   },
   "source": [
    "## Build\n",
    "\n",
    "For a test drive, you need to know some commands. To build your website (i.e., generate `.html` starting from your markdown sources), you do"
   ]
  },
  {
   "cell_type": "code",
   "execution_count": null,
   "metadata": {
    "Collapsed": "false"
   },
   "outputs": [],
   "source": [
    "%%bash -s \"$root_dir\" \"$name\"\n",
    "\n",
    "source ~/.bashrc\n",
    "cd $1\n",
    "conda activate $2\n",
    "\n",
    "mkdocs build\n",
    "\n"
   ]
  },
  {
   "cell_type": "markdown",
   "metadata": {
    "Collapsed": "false"
   },
   "source": [
    "## Preview (host locally)\n",
    "\n",
    "To preview your website locally, you do"
   ]
  },
  {
   "cell_type": "raw",
   "metadata": {
    "Collapsed": "false"
   },
   "source": [
    "%%bash -s \"$root_dir\" \"$name\"\n",
    "\n",
    "source ~/.bashrc\n",
    "cd $1\n",
    "conda activate $2\n",
    "\n",
    "mkdocs serve"
   ]
  },
  {
   "cell_type": "markdown",
   "metadata": {
    "Collapsed": "false"
   },
   "source": [
    "and surf to [localhost:8000](http://localhost:8000). Also note that this server will refresh whenever you alter something on disk (which is nice!), and hence does the build command automatically."
   ]
  },
  {
   "cell_type": "markdown",
   "metadata": {
    "Collapsed": "false"
   },
   "source": [
    "## Publish\n",
    "\n",
    "Now, the last challenge is to make this website available over the internet. Luckily, mkdocs makes this [extremely easy](https://www.mkdocs.org/user-guide/deploying-your-docs/) when you want to host on [github pages](https://pages.github.com/)"
   ]
  },
  {
   "cell_type": "code",
   "execution_count": null,
   "metadata": {
    "Collapsed": "false"
   },
   "outputs": [],
   "source": [
    "%%bash -s \"$root_dir\" \"$name\"\n",
    "\n",
    "source ~/.bashrc\n",
    "cd $1\n",
    "conda activate $2\n",
    "\n",
    "mkdocs gh-deploy"
   ]
  },
  {
   "cell_type": "markdown",
   "metadata": {
    "Collapsed": "false"
   },
   "source": [
    "and your site should be online at; [https://eliavw.github.io/elki_interface](https://eliavw.github.io/elki_interface)\n",
    "\n",
    "What happens under the hood is that a `mkdocs build` is executed, and then the resulting `site` directory is pushed to the `gh pages` branch in your repository. From that point on, github takes care of the rest.\n"
   ]
  }
 ],
 "metadata": {
  "kernelspec": {
   "display_name": "mercs",
   "language": "python",
   "name": "mercs"
  },
  "language_info": {
   "codemirror_mode": {
    "name": "ipython",
    "version": 3
   },
   "file_extension": ".py",
   "mimetype": "text/x-python",
   "name": "python",
   "nbconvert_exporter": "python",
   "pygments_lexer": "ipython3",
   "version": "3.7.5"
  },
  "toc-autonumbering": true
 },
 "nbformat": 4,
 "nbformat_minor": 4
}
