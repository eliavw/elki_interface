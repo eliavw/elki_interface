{
 "cells": [
  {
   "cell_type": "markdown",
   "metadata": {},
   "source": [
    "N.b.: This notebook and other deployment workflows should end up in the cookiecutter to make one-click, documented workflows to automate important tasks for all future projects."
   ]
  },
  {
   "cell_type": "markdown",
   "metadata": {},
   "source": [
    "# Publish to PIP\n",
    "\n",
    "Exectuable guide of how to publish your project on PyPi."
   ]
  },
  {
   "cell_type": "markdown",
   "metadata": {},
   "source": [
    "## Imports"
   ]
  },
  {
   "cell_type": "code",
   "execution_count": 1,
   "metadata": {},
   "outputs": [],
   "source": [
    "import os\n",
    "from os.path import dirname\n",
    "\n",
    "import getpass\n",
    "import configparser\n",
    "import semantic_version\n",
    "\n",
    "root_dir = dirname(dirname(os.getcwd()))\n",
    "fn_setup_cfg = os.path.join(root_dir, 'setup.cfg')"
   ]
  },
  {
   "cell_type": "markdown",
   "metadata": {},
   "source": [
    "## Functions"
   ]
  },
  {
   "cell_type": "code",
   "execution_count": 2,
   "metadata": {},
   "outputs": [],
   "source": [
    "def get_config(fn_setup_cfg):\n",
    "    config = configparser.ConfigParser()\n",
    "    config.read(fn_setup_cfg)\n",
    "    return config\n",
    "\n",
    "def update_version(fn_setup_cfg, major=False, minor=False, patch=True, verbose=True):\n",
    "    assert sum([major, minor, patch]) == 1, \"Only one version number can be changed.\"\n",
    "    \n",
    "    # Load config\n",
    "    config = get_config(fn_setup_cfg)\n",
    "    \n",
    "    # Get version\n",
    "    v = semantic_version.Version(config['metadata'].get('version', '0.0.0'))\n",
    "    \n",
    "    # Update version\n",
    "    if patch:\n",
    "        config['metadata']['version'] = str(v.next_patch())\n",
    "    elif minor:\n",
    "        config['metadata']['version'] = str(v.next_minor())\n",
    "    elif major:\n",
    "        config['metadata']['version'] = str(v.next_major())\n",
    "        \n",
    "    if verbose:\n",
    "        msg = \"\"\"\n",
    "        Version updated to: {}\n",
    "        \"\"\".format(config['metadata']['version'])\n",
    "        print(msg)\n",
    "        \n",
    "    # Save config\n",
    "    with open(fn_setup_cfg, 'w') as f:\n",
    "        config.write(f)\n",
    "    return str(config['metadata']['version'])"
   ]
  },
  {
   "cell_type": "markdown",
   "metadata": {},
   "source": [
    "PyPi\n",
    "----\n",
    "\n",
    "Make your project publicly available on the Python Package Index, [PyPi](https://pypi.org/). To achieve this, we need **remote dependency managment**, since you want your software to run without forcing the users to recreate your conda environments. All dependencies have to be managed, automatically, during installation. To make this work, we need to do some extra work.\n",
    "\n",
    "We follow the steps as outlined in the most basic (and official) [PyPi tutorial](https://packaging.python.org/tutorials/packaging-projects/)."
   ]
  },
  {
   "cell_type": "markdown",
   "metadata": {},
   "source": [
    "### Generate distribution archives\n",
    "\n",
    "Generate distribution packages for the package. These are archives that are uploaded to the Package Index and can be installed by pip."
   ]
  },
  {
   "cell_type": "code",
   "execution_count": 3,
   "metadata": {},
   "outputs": [
    {
     "name": "stdout",
     "output_type": "stream",
     "text": [
      "Root directory is /home/zissou/repos/elki_interface\n"
     ]
    }
   ],
   "source": [
    "print(\"Root directory is {}\".format(root_dir))"
   ]
  },
  {
   "cell_type": "markdown",
   "metadata": {},
   "source": [
    "We also update the version. PIP does not accept another identical file, since it keeps a complete history. Thus, we always must at least update the patch in order to push our thing to PIP. We do so automatically by adapting the versioning number in the `setup.cfg` file."
   ]
  },
  {
   "cell_type": "code",
   "execution_count": 4,
   "metadata": {},
   "outputs": [
    {
     "name": "stdout",
     "output_type": "stream",
     "text": [
      "\n",
      "        Version updated to: 0.0.12\n",
      "        \n"
     ]
    }
   ],
   "source": [
    "version = update_version(fn_setup_cfg, patch=True)"
   ]
  },
  {
   "cell_type": "code",
   "execution_count": 5,
   "metadata": {},
   "outputs": [
    {
     "name": "stdout",
     "output_type": "stream",
     "text": [
      "running sdist\n",
      "running egg_info\n",
      "writing src/elki_interface.egg-info/PKG-INFO\n",
      "writing dependency_links to src/elki_interface.egg-info/dependency_links.txt\n",
      "writing requirements to src/elki_interface.egg-info/requires.txt\n",
      "writing top-level names to src/elki_interface.egg-info/top_level.txt\n",
      "reading manifest file 'src/elki_interface.egg-info/SOURCES.txt'\n",
      "writing manifest file 'src/elki_interface.egg-info/SOURCES.txt'\n",
      "running check\n",
      "creating elki_interface-0.0.12\n",
      "creating elki_interface-0.0.12/src\n",
      "creating elki_interface-0.0.12/src/elki_interface\n",
      "creating elki_interface-0.0.12/src/elki_interface.egg-info\n",
      "copying files to elki_interface-0.0.12...\n",
      "copying README.md -> elki_interface-0.0.12\n",
      "copying setup.cfg -> elki_interface-0.0.12\n",
      "copying setup.py -> elki_interface-0.0.12\n",
      "copying src/elki_interface/Elki.py -> elki_interface-0.0.12/src/elki_interface\n",
      "copying src/elki_interface/Hics.py -> elki_interface-0.0.12/src/elki_interface\n",
      "copying src/elki_interface/__init__.py -> elki_interface-0.0.12/src/elki_interface\n",
      "copying src/elki_interface/cte.py -> elki_interface-0.0.12/src/elki_interface\n",
      "copying src/elki_interface.egg-info/PKG-INFO -> elki_interface-0.0.12/src/elki_interface.egg-info\n",
      "copying src/elki_interface.egg-info/SOURCES.txt -> elki_interface-0.0.12/src/elki_interface.egg-info\n",
      "copying src/elki_interface.egg-info/dependency_links.txt -> elki_interface-0.0.12/src/elki_interface.egg-info\n",
      "copying src/elki_interface.egg-info/not-zip-safe -> elki_interface-0.0.12/src/elki_interface.egg-info\n",
      "copying src/elki_interface.egg-info/requires.txt -> elki_interface-0.0.12/src/elki_interface.egg-info\n",
      "copying src/elki_interface.egg-info/top_level.txt -> elki_interface-0.0.12/src/elki_interface.egg-info\n",
      "Writing elki_interface-0.0.12/setup.cfg\n",
      "Creating tar archive\n",
      "removing 'elki_interface-0.0.12' (and everything under it)\n",
      "running bdist_wheel\n",
      "running build\n",
      "running build_py\n",
      "installing to build/bdist.linux-x86_64/wheel\n",
      "running install\n",
      "running install_lib\n",
      "creating build/bdist.linux-x86_64/wheel\n",
      "creating build/bdist.linux-x86_64/wheel/elki_interface\n",
      "copying build/lib/elki_interface/__init__.py -> build/bdist.linux-x86_64/wheel/elki_interface\n",
      "copying build/lib/elki_interface/Hics.py -> build/bdist.linux-x86_64/wheel/elki_interface\n",
      "copying build/lib/elki_interface/Elki.py -> build/bdist.linux-x86_64/wheel/elki_interface\n",
      "copying build/lib/elki_interface/cte.py -> build/bdist.linux-x86_64/wheel/elki_interface\n",
      "running install_egg_info\n",
      "Copying src/elki_interface.egg-info to build/bdist.linux-x86_64/wheel/elki_interface-0.0.12-py3.8.egg-info\n",
      "running install_scripts\n",
      "adding license file \"LICENSE.txt\" (matched pattern \"LICEN[CS]E*\")\n",
      "adding license file \"AUTHORS.rst\" (matched pattern \"AUTHORS*\")\n",
      "creating build/bdist.linux-x86_64/wheel/elki_interface-0.0.12.dist-info/WHEEL\n",
      "creating 'dist/elki_interface-0.0.12-py2.py3-none-any.whl' and adding 'build/bdist.linux-x86_64/wheel' to it\n",
      "adding 'elki_interface/Elki.py'\n",
      "adding 'elki_interface/Hics.py'\n",
      "adding 'elki_interface/__init__.py'\n",
      "adding 'elki_interface/cte.py'\n",
      "adding 'elki_interface-0.0.12.dist-info/AUTHORS.rst'\n",
      "adding 'elki_interface-0.0.12.dist-info/LICENSE.txt'\n",
      "adding 'elki_interface-0.0.12.dist-info/METADATA'\n",
      "adding 'elki_interface-0.0.12.dist-info/WHEEL'\n",
      "adding 'elki_interface-0.0.12.dist-info/top_level.txt'\n",
      "adding 'elki_interface-0.0.12.dist-info/RECORD'\n",
      "removing build/bdist.linux-x86_64/wheel\n"
     ]
    }
   ],
   "source": [
    "%%bash -s \"$root_dir\"\n",
    "\n",
    "cd $1\n",
    "\n",
    "python setup.py sdist bdist_wheel"
   ]
  },
  {
   "cell_type": "markdown",
   "metadata": {},
   "source": [
    "### Upload to test-PyPi\n",
    "\n",
    "After this, your package can be uploaded to the python package index. To see if it works on PyPi test server, the following"
   ]
  },
  {
   "cell_type": "code",
   "execution_count": 6,
   "metadata": {},
   "outputs": [
    {
     "name": "stdin",
     "output_type": "stream",
     "text": [
      " ······\n",
      " ··········\n"
     ]
    }
   ],
   "source": [
    "username = getpass.getpass()\n",
    "pwd = getpass.getpass()"
   ]
  },
  {
   "cell_type": "code",
   "execution_count": 7,
   "metadata": {},
   "outputs": [
    {
     "name": "stdout",
     "output_type": "stream",
     "text": [
      "Uploading distributions to https://test.pypi.org/legacy/\n",
      "Uploading elki_interface-0.0.12-py2.py3-none-any.whl\n",
      "100%|██████████| 10.5k/10.5k [00:01<00:00, 7.51kB/s]\n",
      "Uploading elki_interface-0.0.12.tar.gz\n",
      "100%|██████████| 8.46k/8.46k [00:01<00:00, 6.97kB/s]\n",
      "\n",
      "View at:\n",
      "https://test.pypi.org/project/elki-interface/0.0.12/\n"
     ]
    },
    {
     "name": "stderr",
     "output_type": "stream",
     "text": [
      "\n",
      "cd $1\n",
      "\n",
      "python -m twine upload --repository-url https://test.pypi.org/legacy/ dist/*$4* -u $2 -p $3\n"
     ]
    }
   ],
   "source": [
    "%%bash --verbose -s \"$root_dir\" \"$username\" \"$pwd\" \"$version\"\n",
    "\n",
    "cd $1\n",
    "\n",
    "python -m twine upload --repository-url https://test.pypi.org/legacy/ dist/*$4* -u $2 -p $3"
   ]
  },
  {
   "cell_type": "markdown",
   "metadata": {},
   "source": [
    "# Upload to Real PyPi\n",
    "\n",
    "Test PyPi really does not work very well.."
   ]
  },
  {
   "cell_type": "code",
   "execution_count": 8,
   "metadata": {},
   "outputs": [
    {
     "name": "stdout",
     "output_type": "stream",
     "text": [
      "Uploading distributions to https://upload.pypi.org/legacy/\n",
      "Uploading elki_interface-0.0.12-py2.py3-none-any.whl\n",
      "100%|██████████| 10.5k/10.5k [00:01<00:00, 7.00kB/s]\n",
      "Uploading elki_interface-0.0.12.tar.gz\n",
      "100%|██████████| 8.46k/8.46k [00:01<00:00, 7.78kB/s]\n",
      "\n",
      "View at:\n",
      "https://pypi.org/project/elki-interface/0.0.12/\n"
     ]
    },
    {
     "name": "stderr",
     "output_type": "stream",
     "text": [
      "\n",
      "cd $1\n",
      "\n",
      "python -m twine upload dist/*$4* -u $2 -p $3\n"
     ]
    }
   ],
   "source": [
    "%%bash --verbose -s \"$root_dir\" \"$username\" \"$pwd\" \"$version\"\n",
    "\n",
    "cd $1\n",
    "\n",
    "python -m twine upload dist/*$4* -u $2 -p $3"
   ]
  }
 ],
 "metadata": {
  "kernelspec": {
   "display_name": "elki_interface",
   "language": "python",
   "name": "elki_interface"
  },
  "language_info": {
   "codemirror_mode": {
    "name": "ipython",
    "version": 3
   },
   "file_extension": ".py",
   "mimetype": "text/x-python",
   "name": "python",
   "nbconvert_exporter": "python",
   "pygments_lexer": "ipython3",
   "version": "3.9.2"
  }
 },
 "nbformat": 4,
 "nbformat_minor": 4
}
