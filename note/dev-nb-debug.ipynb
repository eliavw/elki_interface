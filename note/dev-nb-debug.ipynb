{
 "cells": [
  {
   "cell_type": "markdown",
   "metadata": {},
   "source": [
    "# Development Notebook\n",
    "\n",
    "I use this notebook as a development tool."
   ]
  },
  {
   "cell_type": "markdown",
   "metadata": {},
   "source": [
    "# Preliminaries"
   ]
  },
  {
   "cell_type": "code",
   "execution_count": 1,
   "metadata": {},
   "outputs": [],
   "source": [
    "%load_ext lab_black"
   ]
  },
  {
   "cell_type": "markdown",
   "metadata": {},
   "source": [
    "## Imports"
   ]
  },
  {
   "cell_type": "code",
   "execution_count": 2,
   "metadata": {},
   "outputs": [],
   "source": [
    "import numpy as np\n",
    "import pandas as pd\n",
    "import os\n",
    "\n",
    "import sklearn\n",
    "from sklearn.datasets import load_iris"
   ]
  },
  {
   "cell_type": "code",
   "execution_count": 3,
   "metadata": {},
   "outputs": [],
   "source": [
    "from pathlib import Path"
   ]
  },
  {
   "cell_type": "code",
   "execution_count": 4,
   "metadata": {},
   "outputs": [],
   "source": [
    "import elki_interface"
   ]
  },
  {
   "cell_type": "code",
   "execution_count": 5,
   "metadata": {},
   "outputs": [
    {
     "data": {
      "text/plain": [
       "PosixPath('/home/zissou/repos/elki_interface/src/elki_interface/elki.jar')"
      ]
     },
     "execution_count": 5,
     "metadata": {},
     "output_type": "execute_result"
    }
   ],
   "source": [
    "from elki_interface import ELKI_FILEPATH\n",
    "\n",
    "ELKI_FILEPATH"
   ]
  },
  {
   "cell_type": "code",
   "execution_count": 6,
   "metadata": {},
   "outputs": [],
   "source": [
    "from elki_interface import Hics"
   ]
  },
  {
   "cell_type": "code",
   "execution_count": 7,
   "metadata": {
    "jupyter": {
     "source_hidden": true
    }
   },
   "outputs": [
    {
     "name": "stderr",
     "output_type": "stream",
     "text": [
      "ERROR:root:No traceback has been produced, nothing to debug.\n"
     ]
    }
   ],
   "source": [
    "%debug"
   ]
  },
  {
   "cell_type": "markdown",
   "metadata": {},
   "source": [
    "# Data"
   ]
  },
  {
   "cell_type": "code",
   "execution_count": 8,
   "metadata": {},
   "outputs": [],
   "source": [
    "iris = load_iris()\n",
    "\n",
    "X = iris.get(\"data\")\n",
    "y = iris.get(\"target\")\n",
    "\n",
    "matrix = np.c_[X, y]"
   ]
  },
  {
   "cell_type": "markdown",
   "metadata": {},
   "source": [
    "# Problematic Datasets"
   ]
  },
  {
   "cell_type": "code",
   "execution_count": 9,
   "metadata": {},
   "outputs": [
    {
     "data": {
      "text/plain": [
       "dict_keys(['hepatitis_hidim', 'parkinson_hidim', 'parkinson_lodim'])"
      ]
     },
     "execution_count": 9,
     "metadata": {},
     "output_type": "execute_result"
    }
   ],
   "source": [
    "data_dir = Path().absolute().parent / \"data\" / \"raw\"\n",
    "\n",
    "fps = list(data_dir.glob(\"*.csv\"))\n",
    "fps.sort()\n",
    "\n",
    "datasets = {\n",
    "    fp.stem: pd.read_csv(fp) if \"hidim\" in str(fp) else pd.read_csv(fp, header=None)\n",
    "    for fp in fps\n",
    "}\n",
    "datasets.keys()"
   ]
  },
  {
   "cell_type": "markdown",
   "metadata": {},
   "source": [
    "# Sandbox\n",
    "\n",
    "This is where functions and classes are tested."
   ]
  },
  {
   "cell_type": "code",
   "execution_count": 10,
   "metadata": {},
   "outputs": [],
   "source": [
    "clf = Hics(k=8, contamination=0.05, verbose=True)"
   ]
  },
  {
   "cell_type": "markdown",
   "metadata": {},
   "source": [
    "## Iris\n",
    "\n",
    "This works"
   ]
  },
  {
   "cell_type": "code",
   "execution_count": 11,
   "metadata": {},
   "outputs": [],
   "source": [
    "iris = load_iris()\n",
    "\n",
    "X = iris.get(\"data\")"
   ]
  },
  {
   "cell_type": "code",
   "execution_count": 12,
   "metadata": {},
   "outputs": [
    {
     "data": {
      "text/plain": [
       "(150, 4)"
      ]
     },
     "execution_count": 12,
     "metadata": {},
     "output_type": "execute_result"
    }
   ],
   "source": [
    "X.shape"
   ]
  },
  {
   "cell_type": "code",
   "execution_count": 13,
   "metadata": {},
   "outputs": [
    {
     "name": "stdout",
     "output_type": "stream",
     "text": [
      "[2020-12-04 19:35:44] INFO - prefect.FlowRunner | Beginning Flow run for 'fit'\n"
     ]
    },
    {
     "name": "stderr",
     "output_type": "stream",
     "text": [
      "INFO:prefect.FlowRunner:Beginning Flow run for 'fit'\n"
     ]
    },
    {
     "name": "stdout",
     "output_type": "stream",
     "text": [
      "[2020-12-04 19:35:44] INFO - prefect.TaskRunner | Task 'ShellTask': Starting task run...\n"
     ]
    },
    {
     "name": "stderr",
     "output_type": "stream",
     "text": [
      "INFO:prefect.TaskRunner:Task 'ShellTask': Starting task run...\n"
     ]
    },
    {
     "name": "stdout",
     "output_type": "stream",
     "text": [
      "[2020-12-04 19:35:44] INFO - prefect.TaskRunner | Task 'ShellTask': finished task run for task with final state: 'Success'\n"
     ]
    },
    {
     "name": "stderr",
     "output_type": "stream",
     "text": [
      "INFO:prefect.TaskRunner:Task 'ShellTask': finished task run for task with final state: 'Success'\n"
     ]
    },
    {
     "name": "stdout",
     "output_type": "stream",
     "text": [
      "[2020-12-04 19:35:44] INFO - prefect.FlowRunner | Flow run SUCCESS: all reference tasks succeeded\n"
     ]
    },
    {
     "name": "stderr",
     "output_type": "stream",
     "text": [
      "INFO:prefect.FlowRunner:Flow run SUCCESS: all reference tasks succeeded\n"
     ]
    }
   ],
   "source": [
    "clf.fit(X)"
   ]
  },
  {
   "cell_type": "code",
   "execution_count": 14,
   "metadata": {},
   "outputs": [
    {
     "data": {
      "text/plain": [
       "array([3.92060449, 3.9714986 , 4.20191892, 3.99625246, 3.93836452,\n",
       "       4.6406238 , 4.11992596, 3.86088215, 4.32747645, 4.037644  ,\n",
       "       4.19854531, 4.25285516, 4.01922113, 6.06074837, 5.54637646,\n",
       "       5.45528248, 5.0597396 , 3.94578294, 5.02861552, 4.35185651,\n",
       "       5.04532432, 4.60644204, 7.37667419, 5.45855489, 6.89427353,\n",
       "       4.08112094, 4.72644208, 3.93317622, 3.95886283, 4.07314791,\n",
       "       4.07403064, 4.60639639, 4.55634273, 4.8755275 , 3.99752237,\n",
       "       4.94362967, 4.47687679, 4.11025738, 4.32509206, 3.88697588,\n",
       "       4.11337891, 7.68223755, 4.26259517, 5.84769398, 6.1788514 ,\n",
       "       4.0262978 , 4.32755772, 4.06442175, 4.27330723, 3.85335617,\n",
       "       4.38242183, 3.97968044, 4.38738581, 4.13770832, 3.92582756,\n",
       "       4.32149579, 4.1553098 , 5.62560655, 4.15918533, 4.64446475,\n",
       "       5.42062343, 4.38940256, 4.82811573, 4.02990535, 5.34138774,\n",
       "       3.97448338, 4.09627032, 4.37095666, 4.79801478, 4.1771353 ,\n",
       "       4.10509825, 4.13454858, 4.33009928, 4.4533604 , 4.0607976 ,\n",
       "       3.92082033, 4.30099384, 4.15320667, 3.91201535, 5.07271912,\n",
       "       4.38128833, 4.73041071, 4.03828258, 4.03339075, 4.47169808,\n",
       "       4.4598545 , 4.28907121, 4.57614628, 3.92805245, 3.96917189,\n",
       "       4.47684138, 3.94852912, 3.91309012, 5.53072902, 3.83383728,\n",
       "       3.91072049, 3.93283523, 4.04091743, 6.23301047, 3.96686299,\n",
       "       4.66736432, 4.036772  , 4.22010091, 4.23258699, 3.91276747,\n",
       "       4.81066922, 6.66484612, 4.46233888, 4.5810493 , 5.18680597,\n",
       "       4.00251464, 4.0549061 , 3.92062862, 4.28115688, 5.2118515 ,\n",
       "       4.15392452, 4.08479954, 5.17399095, 5.73163266, 4.8081985 ,\n",
       "       3.92300567, 4.19301563, 5.01439178, 3.96912128, 3.84013283,\n",
       "       4.69676731, 3.96341674, 3.92832261, 3.91731632, 4.64873379,\n",
       "       4.29123872, 5.01554939, 3.8938736 , 4.3453216 , 5.50824414,\n",
       "       4.29388529, 4.07909095, 4.137596  , 4.002171  , 3.97897927,\n",
       "       3.91218355, 4.57511798, 4.036772  , 4.06050705, 4.08495185,\n",
       "       4.24191868, 4.03735367, 4.06123254, 4.25430983, 3.88274434])"
      ]
     },
     "execution_count": 14,
     "metadata": {},
     "output_type": "execute_result"
    }
   ],
   "source": [
    "clf.scores"
   ]
  },
  {
   "cell_type": "markdown",
   "metadata": {},
   "source": [
    "## Hepatitis"
   ]
  },
  {
   "cell_type": "code",
   "execution_count": 15,
   "metadata": {},
   "outputs": [
    {
     "name": "stdout",
     "output_type": "stream",
     "text": [
      "(70, 95)\n",
      "[2020-12-04 19:35:44] INFO - prefect.FlowRunner | Beginning Flow run for 'fit'\n"
     ]
    },
    {
     "name": "stderr",
     "output_type": "stream",
     "text": [
      "INFO:prefect.FlowRunner:Beginning Flow run for 'fit'\n"
     ]
    },
    {
     "name": "stdout",
     "output_type": "stream",
     "text": [
      "[2020-12-04 19:35:45] INFO - prefect.TaskRunner | Task 'ShellTask': Starting task run...\n"
     ]
    },
    {
     "name": "stderr",
     "output_type": "stream",
     "text": [
      "INFO:prefect.TaskRunner:Task 'ShellTask': Starting task run...\n"
     ]
    },
    {
     "name": "stdout",
     "output_type": "stream",
     "text": [
      "[2020-12-04 19:35:49] INFO - prefect.TaskRunner | Task 'ShellTask': finished task run for task with final state: 'Success'\n"
     ]
    },
    {
     "name": "stderr",
     "output_type": "stream",
     "text": [
      "INFO:prefect.TaskRunner:Task 'ShellTask': finished task run for task with final state: 'Success'\n"
     ]
    },
    {
     "name": "stdout",
     "output_type": "stream",
     "text": [
      "[2020-12-04 19:35:49] INFO - prefect.FlowRunner | Flow run SUCCESS: all reference tasks succeeded\n"
     ]
    },
    {
     "name": "stderr",
     "output_type": "stream",
     "text": [
      "INFO:prefect.FlowRunner:Flow run SUCCESS: all reference tasks succeeded\n"
     ]
    }
   ],
   "source": [
    "df = datasets[\"hepatitis_hidim\"]\n",
    "X = df[[c for c in df.columns if c != \"Y\"]].values\n",
    "y = df.Y.values\n",
    "\n",
    "print(X.shape)\n",
    "\n",
    "clf.fit(X)"
   ]
  },
  {
   "cell_type": "code",
   "execution_count": 16,
   "metadata": {},
   "outputs": [
    {
     "data": {
      "text/plain": [
       "array([0.99825907, 0.97631549, 1.03843678, 0.99059708, 1.03972804,\n",
       "       1.11069904, 1.00807743, 1.03523831, 1.06141408, 0.99383399,\n",
       "       1.01529975, 1.16013941, 1.14642453, 1.04997765, 0.99469787,\n",
       "       0.96366583, 0.99996103, 1.00835031, 1.02100668, 0.97234597,\n",
       "       1.08827516, 1.0328575 , 0.9902499 , 1.02898782, 0.97711229,\n",
       "       0.99961806, 0.948578  , 0.97787377, 1.20132469, 1.03024961,\n",
       "       1.00935774, 1.05646899, 0.99502536, 1.01319584, 0.97876648,\n",
       "       1.03196092, 0.99878253, 0.9829162 , 1.13414079, 0.99952907,\n",
       "       1.078128  , 0.98379629, 1.02385388, 0.97197533, 0.99745824,\n",
       "       0.99147905, 1.03971565, 0.99680557, 1.01572192, 1.10072612,\n",
       "       1.01873769, 1.18523806, 1.15832764, 0.99374167, 0.99200473,\n",
       "       1.01825094, 1.14837341, 1.06418244, 0.99840154, 0.98516562,\n",
       "       1.01668015, 1.03934819, 1.03085681, 1.03459065, 0.9720542 ,\n",
       "       0.96657946, 1.0245213 , 0.98975031, 1.0239703 , 0.97881133])"
      ]
     },
     "execution_count": 16,
     "metadata": {},
     "output_type": "execute_result"
    }
   ],
   "source": [
    "clf.scores"
   ]
  },
  {
   "cell_type": "code",
   "execution_count": 17,
   "metadata": {},
   "outputs": [
    {
     "data": {
      "text/plain": [
       "0.05"
      ]
     },
     "execution_count": 17,
     "metadata": {},
     "output_type": "execute_result"
    }
   ],
   "source": [
    "clf.contamination"
   ]
  },
  {
   "cell_type": "code",
   "execution_count": 18,
   "metadata": {},
   "outputs": [
    {
     "name": "stdout",
     "output_type": "stream",
     "text": [
      "[0 0 0 0 0 0 0 0 0 0 0 0 0 0 0 0 0 0 0 0 0 0 0 0 0 0 0 0 0 0 0 0 0 0 0 0 0\n",
      " 0 0 0 0 0 0 0 0 0 0 0 0 0 0 0 0 0 0 0 0 0 0 0 0 0 0 0 0 0 0 1 1 1]\n"
     ]
    }
   ],
   "source": [
    "print(y)"
   ]
  },
  {
   "cell_type": "markdown",
   "metadata": {},
   "source": [
    "## Parkinson HD"
   ]
  },
  {
   "cell_type": "code",
   "execution_count": 19,
   "metadata": {},
   "outputs": [
    {
     "name": "stdout",
     "output_type": "stream",
     "text": [
      "(50, 110)\n",
      "[2020-12-04 19:35:49] INFO - prefect.FlowRunner | Beginning Flow run for 'fit'\n"
     ]
    },
    {
     "name": "stderr",
     "output_type": "stream",
     "text": [
      "INFO:prefect.FlowRunner:Beginning Flow run for 'fit'\n"
     ]
    },
    {
     "name": "stdout",
     "output_type": "stream",
     "text": [
      "[2020-12-04 19:35:49] INFO - prefect.TaskRunner | Task 'ShellTask': Starting task run...\n"
     ]
    },
    {
     "name": "stderr",
     "output_type": "stream",
     "text": [
      "INFO:prefect.TaskRunner:Task 'ShellTask': Starting task run...\n"
     ]
    },
    {
     "name": "stdout",
     "output_type": "stream",
     "text": [
      "[2020-12-04 19:36:01] INFO - prefect.TaskRunner | Task 'ShellTask': finished task run for task with final state: 'Success'\n"
     ]
    },
    {
     "name": "stderr",
     "output_type": "stream",
     "text": [
      "INFO:prefect.TaskRunner:Task 'ShellTask': finished task run for task with final state: 'Success'\n"
     ]
    },
    {
     "name": "stdout",
     "output_type": "stream",
     "text": [
      "[2020-12-04 19:36:01] INFO - prefect.FlowRunner | Flow run SUCCESS: all reference tasks succeeded\n"
     ]
    },
    {
     "name": "stderr",
     "output_type": "stream",
     "text": [
      "INFO:prefect.FlowRunner:Flow run SUCCESS: all reference tasks succeeded\n"
     ]
    }
   ],
   "source": [
    "df = datasets[\"parkinson_hidim\"]\n",
    "X = df[[c for c in df.columns if c != \"Y\"]].values\n",
    "y = df.Y.values\n",
    "\n",
    "print(X.shape)\n",
    "\n",
    "clf.fit(X)"
   ]
  },
  {
   "cell_type": "code",
   "execution_count": 20,
   "metadata": {},
   "outputs": [
    {
     "data": {
      "text/plain": [
       "array([22.59202046, 11.85267241,  7.84092958,  8.42474763,  7.4639861 ,\n",
       "        9.22405084,  9.70911001,  8.55712196,  7.29226851,  7.37720836,\n",
       "        7.05990715,  7.04810746,  6.7459055 ,  7.60194184,  7.37120502,\n",
       "        7.69821393,  7.49586582,  7.65679371,  7.74088697,  8.00937689,\n",
       "        7.40383762,  7.50518735,  7.22112951,  7.13582089,  7.82793508,\n",
       "        7.80845342,  7.44371197,  7.14719737,  7.42416656,  9.02547744,\n",
       "        7.26136575,  7.4740309 ,  6.94752681,  7.0930552 ,  7.15473917,\n",
       "        6.99179499,  7.04811107,  7.51396643,  9.88305982,  9.75782497,\n",
       "        8.99332186,  8.10756783,  8.05054139,  9.44398831,  8.17236036,\n",
       "       13.97802345,  8.21595619, 11.64923005,  8.09492104,  7.48374719])"
      ]
     },
     "execution_count": 20,
     "metadata": {},
     "output_type": "execute_result"
    }
   ],
   "source": [
    "clf.scores"
   ]
  },
  {
   "cell_type": "code",
   "execution_count": 21,
   "metadata": {},
   "outputs": [
    {
     "data": {
      "text/plain": [
       "array([1., 0., 0., 0., 0., 0., 0., 0., 0., 0., 0., 0., 0., 0., 0., 0., 0.,\n",
       "       0., 0., 0., 0., 0., 0., 0., 0., 0., 0., 0., 0., 0., 0., 0., 0., 0.,\n",
       "       0., 0., 0., 0., 0., 0., 0., 0., 0., 0., 0., 1., 0., 0., 0., 0.])"
      ]
     },
     "execution_count": 21,
     "metadata": {},
     "output_type": "execute_result"
    }
   ],
   "source": [
    "clf.labels"
   ]
  },
  {
   "cell_type": "code",
   "execution_count": 22,
   "metadata": {},
   "outputs": [
    {
     "name": "stdout",
     "output_type": "stream",
     "text": [
      "[1 1 0 0 0 0 0 0 0 0 0 0 0 0 0 0 0 0 0 0 0 0 0 0 0 0 0 0 0 0 0 0 0 0 0 0 0\n",
      " 0 0 0 0 0 0 0 0 0 0 0 0 0]\n"
     ]
    }
   ],
   "source": [
    "print(y)"
   ]
  },
  {
   "cell_type": "markdown",
   "metadata": {},
   "source": [
    "## Parkinson LD"
   ]
  },
  {
   "cell_type": "code",
   "execution_count": 23,
   "metadata": {},
   "outputs": [
    {
     "name": "stdout",
     "output_type": "stream",
     "text": [
      "(50, 22)\n",
      "[2020-12-04 19:36:01] INFO - prefect.FlowRunner | Beginning Flow run for 'fit'\n"
     ]
    },
    {
     "name": "stderr",
     "output_type": "stream",
     "text": [
      "INFO:prefect.FlowRunner:Beginning Flow run for 'fit'\n"
     ]
    },
    {
     "name": "stdout",
     "output_type": "stream",
     "text": [
      "[2020-12-04 19:36:01] INFO - prefect.TaskRunner | Task 'ShellTask': Starting task run...\n"
     ]
    },
    {
     "name": "stderr",
     "output_type": "stream",
     "text": [
      "INFO:prefect.TaskRunner:Task 'ShellTask': Starting task run...\n"
     ]
    },
    {
     "name": "stdout",
     "output_type": "stream",
     "text": [
      "[2020-12-04 19:36:13] INFO - prefect.TaskRunner | Task 'ShellTask': finished task run for task with final state: 'Success'\n"
     ]
    },
    {
     "name": "stderr",
     "output_type": "stream",
     "text": [
      "INFO:prefect.TaskRunner:Task 'ShellTask': finished task run for task with final state: 'Success'\n"
     ]
    },
    {
     "name": "stdout",
     "output_type": "stream",
     "text": [
      "[2020-12-04 19:36:13] INFO - prefect.FlowRunner | Flow run SUCCESS: all reference tasks succeeded\n"
     ]
    },
    {
     "name": "stderr",
     "output_type": "stream",
     "text": [
      "INFO:prefect.FlowRunner:Flow run SUCCESS: all reference tasks succeeded\n"
     ]
    }
   ],
   "source": [
    "df = datasets[\"parkinson_lodim\"]\n",
    "X = df[df.columns[:-2]].values\n",
    "y = np.array([1 if v == \"'yes'\" else 0 for v in df[df.columns[-1]].values])\n",
    "\n",
    "print(X.shape)\n",
    "\n",
    "clf.fit(X)"
   ]
  },
  {
   "cell_type": "code",
   "execution_count": 24,
   "metadata": {},
   "outputs": [
    {
     "data": {
      "text/plain": [
       "array([122.11745853,  81.13859377,  58.53585862,  60.96458862,\n",
       "        57.61609331,  61.72467086,  64.6179623 ,  60.38318607,\n",
       "        48.54565582,  48.93224129,  48.825198  ,  48.1296627 ,\n",
       "        48.48986192,  62.28582825,  50.01204794,  48.85230951,\n",
       "        54.84272289,  54.59270921,  59.15923866,  59.47825407,\n",
       "        56.84281899,  53.99129747,  49.83566842,  48.58499168,\n",
       "        49.70229179,  54.13547442,  61.704147  ,  47.95466484,\n",
       "        62.67180517,  63.09678466,  66.17545681,  60.13310494,\n",
       "        47.5387663 ,  47.67343211,  48.65921923,  47.43522119,\n",
       "        48.11755912,  48.20882286,  55.60626436,  79.44753843,\n",
       "        52.86614459,  92.22609659, 102.37243351,  50.78288701,\n",
       "        63.1151541 ,  79.1624791 ,  63.03799867,  95.04175359,\n",
       "        67.60459574,  69.95483729])"
      ]
     },
     "execution_count": 24,
     "metadata": {},
     "output_type": "execute_result"
    }
   ],
   "source": [
    "clf.scores"
   ]
  },
  {
   "cell_type": "code",
   "execution_count": 25,
   "metadata": {},
   "outputs": [
    {
     "data": {
      "text/plain": [
       "array([1., 0., 0., 0., 0., 0., 0., 0., 0., 0., 0., 0., 0., 0., 0., 0., 0.,\n",
       "       0., 0., 0., 0., 0., 0., 0., 0., 0., 0., 0., 0., 0., 0., 0., 0., 0.,\n",
       "       0., 0., 0., 0., 0., 0., 0., 0., 1., 0., 0., 0., 0., 0., 0., 0.])"
      ]
     },
     "execution_count": 25,
     "metadata": {},
     "output_type": "execute_result"
    }
   ],
   "source": [
    "clf.labels"
   ]
  },
  {
   "cell_type": "code",
   "execution_count": 26,
   "metadata": {},
   "outputs": [
    {
     "name": "stdout",
     "output_type": "stream",
     "text": [
      "[1 1 0 0 0 0 0 0 0 0 0 0 0 0 0 0 0 0 0 0 0 0 0 0 0 0 0 0 0 0 0 0 0 0 0 0 0\n",
      " 0 0 0 0 0 0 0 0 0 0 0 0 0]\n"
     ]
    }
   ],
   "source": [
    "print(y)"
   ]
  },
  {
   "cell_type": "code",
   "execution_count": null,
   "metadata": {},
   "outputs": [],
   "source": []
  },
  {
   "cell_type": "code",
   "execution_count": null,
   "metadata": {},
   "outputs": [],
   "source": []
  },
  {
   "cell_type": "code",
   "execution_count": null,
   "metadata": {},
   "outputs": [],
   "source": []
  },
  {
   "cell_type": "code",
   "execution_count": null,
   "metadata": {},
   "outputs": [],
   "source": []
  },
  {
   "cell_type": "code",
   "execution_count": null,
   "metadata": {},
   "outputs": [],
   "source": []
  },
  {
   "cell_type": "code",
   "execution_count": null,
   "metadata": {},
   "outputs": [],
   "source": []
  },
  {
   "cell_type": "code",
   "execution_count": 27,
   "metadata": {},
   "outputs": [
    {
     "data": {
      "text/plain": [
       "array([ 0, 42])"
      ]
     },
     "execution_count": 27,
     "metadata": {},
     "output_type": "execute_result"
    }
   ],
   "source": [
    "np.where(clf.labels == 1)[0]"
   ]
  },
  {
   "cell_type": "code",
   "execution_count": 28,
   "metadata": {},
   "outputs": [
    {
     "data": {
      "text/plain": [
       "'java -jar /home/zissou/repos/elki_interface/src/elki_interface/elki.jar KDDCLIApplication -db HashmapDatabase -dbc.in /tmp/tmpx1w8zg5r.csv -algorithm outlier.meta.HiCS -lof.k 8 -evaluator NoAutomaticEvaluation -resulthandler tutorial.outlier.SimpleScoreDumper'"
      ]
     },
     "execution_count": 28,
     "metadata": {},
     "output_type": "execute_result"
    }
   ],
   "source": [
    "clf.fit_command"
   ]
  }
 ],
 "metadata": {
  "kernelspec": {
   "display_name": "elki_interface",
   "language": "python",
   "name": "elki_interface"
  },
  "language_info": {
   "codemirror_mode": {
    "name": "ipython",
    "version": 3
   },
   "file_extension": ".py",
   "mimetype": "text/x-python",
   "name": "python",
   "nbconvert_exporter": "python",
   "pygments_lexer": "ipython3",
   "version": "3.8.5"
  },
  "toc-autonumbering": true
 },
 "nbformat": 4,
 "nbformat_minor": 4
}
