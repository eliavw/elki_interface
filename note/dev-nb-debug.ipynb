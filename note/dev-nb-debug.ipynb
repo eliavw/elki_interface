{
 "cells": [
  {
   "cell_type": "markdown",
   "metadata": {},
   "source": [
    "# Development Notebook\n",
    "\n",
    "I use this notebook as a development tool."
   ]
  },
  {
   "cell_type": "markdown",
   "metadata": {},
   "source": [
    "# Preliminaries"
   ]
  },
  {
   "cell_type": "code",
   "execution_count": 1,
   "metadata": {},
   "outputs": [],
   "source": [
    "%load_ext lab_black"
   ]
  },
  {
   "cell_type": "markdown",
   "metadata": {},
   "source": [
    "## Imports"
   ]
  },
  {
   "cell_type": "code",
   "execution_count": 2,
   "metadata": {},
   "outputs": [],
   "source": [
    "import numpy as np\n",
    "import pandas as pd\n",
    "import os\n",
    "\n",
    "import sklearn\n",
    "from sklearn.datasets import load_iris"
   ]
  },
  {
   "cell_type": "code",
   "execution_count": 3,
   "metadata": {},
   "outputs": [],
   "source": [
    "from pathlib import Path"
   ]
  },
  {
   "cell_type": "code",
   "execution_count": 4,
   "metadata": {},
   "outputs": [],
   "source": [
    "import elki_interface"
   ]
  },
  {
   "cell_type": "code",
   "execution_count": 5,
   "metadata": {},
   "outputs": [
    {
     "data": {
      "text/plain": [
       "PosixPath('/home/zissou/repos/elki_interface/src/elki_interface/elki.jar')"
      ]
     },
     "execution_count": 5,
     "metadata": {},
     "output_type": "execute_result"
    }
   ],
   "source": [
    "from elki_interface import ELKI_FILEPATH\n",
    "\n",
    "ELKI_FILEPATH"
   ]
  },
  {
   "cell_type": "code",
   "execution_count": 6,
   "metadata": {},
   "outputs": [],
   "source": [
    "from elki_interface import Hics"
   ]
  },
  {
   "cell_type": "code",
   "execution_count": 7,
   "metadata": {
    "jupyter": {
     "source_hidden": true
    }
   },
   "outputs": [
    {
     "name": "stderr",
     "output_type": "stream",
     "text": [
      "ERROR:root:No traceback has been produced, nothing to debug.\n"
     ]
    }
   ],
   "source": [
    "%debug"
   ]
  },
  {
   "cell_type": "markdown",
   "metadata": {},
   "source": [
    "# Data"
   ]
  },
  {
   "cell_type": "code",
   "execution_count": 8,
   "metadata": {},
   "outputs": [],
   "source": [
    "iris = load_iris()\n",
    "\n",
    "X = iris.get(\"data\")\n",
    "y = iris.get(\"target\")\n",
    "\n",
    "matrix = np.c_[X, y]"
   ]
  },
  {
   "cell_type": "markdown",
   "metadata": {},
   "source": [
    "# Problematic Datasets"
   ]
  },
  {
   "cell_type": "code",
   "execution_count": 9,
   "metadata": {},
   "outputs": [
    {
     "data": {
      "text/plain": [
       "dict_keys(['hepatitis_hidim', 'parkinson_hidim', 'parkinson_lodim', 'parkison_lodim_02'])"
      ]
     },
     "execution_count": 9,
     "metadata": {},
     "output_type": "execute_result"
    }
   ],
   "source": [
    "data_dir = Path().absolute().parent / \"data\" / \"raw\"\n",
    "\n",
    "fps = list(data_dir.glob(\"*.csv\"))\n",
    "fps.sort()\n",
    "\n",
    "datasets = {\n",
    "    fp.stem: pd.read_csv(fp) if \"hidim\" in str(fp) else pd.read_csv(fp, header=None)\n",
    "    for fp in fps\n",
    "}\n",
    "datasets.keys()"
   ]
  },
  {
   "cell_type": "markdown",
   "metadata": {},
   "source": [
    "# Sandbox\n",
    "\n",
    "This is where functions and classes are tested."
   ]
  },
  {
   "cell_type": "code",
   "execution_count": 10,
   "metadata": {},
   "outputs": [],
   "source": [
    "clf = Hics(k=8, contamination=0.05, verbose=True)"
   ]
  },
  {
   "cell_type": "markdown",
   "metadata": {},
   "source": [
    "## Iris\n",
    "\n",
    "This works"
   ]
  },
  {
   "cell_type": "code",
   "execution_count": 11,
   "metadata": {},
   "outputs": [],
   "source": [
    "iris = load_iris()\n",
    "\n",
    "X = iris.get(\"data\")"
   ]
  },
  {
   "cell_type": "code",
   "execution_count": 12,
   "metadata": {},
   "outputs": [
    {
     "data": {
      "text/plain": [
       "(150, 4)"
      ]
     },
     "execution_count": 12,
     "metadata": {},
     "output_type": "execute_result"
    }
   ],
   "source": [
    "X.shape"
   ]
  },
  {
   "cell_type": "code",
   "execution_count": 13,
   "metadata": {},
   "outputs": [
    {
     "name": "stdout",
     "output_type": "stream",
     "text": [
      "[2020-12-05 11:56:42+0100] INFO - prefect.FlowRunner | Beginning Flow run for 'fit'\n"
     ]
    },
    {
     "name": "stderr",
     "output_type": "stream",
     "text": [
      "INFO:prefect.FlowRunner:Beginning Flow run for 'fit'\n"
     ]
    },
    {
     "name": "stdout",
     "output_type": "stream",
     "text": [
      "[2020-12-05 11:56:42+0100] INFO - prefect.TaskRunner | Task 'ShellTask': Starting task run...\n"
     ]
    },
    {
     "name": "stderr",
     "output_type": "stream",
     "text": [
      "INFO:prefect.TaskRunner:Task 'ShellTask': Starting task run...\n"
     ]
    },
    {
     "name": "stdout",
     "output_type": "stream",
     "text": [
      "[2020-12-05 11:56:43+0100] INFO - prefect.TaskRunner | Task 'ShellTask': Finished task run for task with final state: 'Success'\n"
     ]
    },
    {
     "name": "stderr",
     "output_type": "stream",
     "text": [
      "INFO:prefect.TaskRunner:Task 'ShellTask': Finished task run for task with final state: 'Success'\n"
     ]
    },
    {
     "name": "stdout",
     "output_type": "stream",
     "text": [
      "[2020-12-05 11:56:43+0100] INFO - prefect.FlowRunner | Flow run SUCCESS: all reference tasks succeeded\n"
     ]
    },
    {
     "name": "stderr",
     "output_type": "stream",
     "text": [
      "INFO:prefect.FlowRunner:Flow run SUCCESS: all reference tasks succeeded\n"
     ]
    }
   ],
   "source": [
    "clf.fit(X)"
   ]
  },
  {
   "cell_type": "code",
   "execution_count": 14,
   "metadata": {},
   "outputs": [
    {
     "data": {
      "text/plain": [
       "array([2.98416907, 3.00970019, 3.05189107, 2.97883606, 2.93793776,\n",
       "       3.4826541 , 3.12943677, 2.91093459, 3.27971282, 3.23053692,\n",
       "       3.17501646, 3.12486945, 2.93330861, 4.7124936 , 4.12108075,\n",
       "       4.00820242, 3.61741872, 3.15005977, 3.71219027, 3.42662315,\n",
       "       3.80473102, 3.67523757, 5.14601329, 4.32050139, 4.50946958,\n",
       "       2.99529333, 3.74801667, 3.01887214, 3.02152007, 2.98515275,\n",
       "       3.01288077, 3.62597436, 3.72966674, 3.29632634, 3.00127033,\n",
       "       3.33991176, 3.29758528, 3.2957921 , 3.230999  , 2.95310972,\n",
       "       3.06507547, 4.38971726, 3.17038214, 4.46590409, 4.68415314,\n",
       "       2.98388579, 3.14127389, 3.05857995, 3.30822992, 2.92115927,\n",
       "       3.31984592, 2.94375741, 3.27120954, 3.12836267, 3.00006135,\n",
       "       3.13464058, 3.01289926, 4.44752396, 3.19145995, 4.1083091 ,\n",
       "       4.30650015, 3.25429394, 3.91823128, 3.01570925, 3.60803876,\n",
       "       3.03004857, 3.29272267, 3.41281846, 3.24798484, 3.28633164,\n",
       "       3.09596641, 3.02393959, 3.0971007 , 3.3321903 , 3.0648511 ,\n",
       "       2.97569963, 3.1630572 , 3.11653494, 2.93775052, 3.68355431,\n",
       "       3.46390441, 3.6059539 , 3.08162514, 3.05511696, 3.59834816,\n",
       "       3.09830451, 3.24100319, 3.28263865, 2.94588391, 3.05227555,\n",
       "       3.13940267, 2.97966141, 2.9476254 , 4.32369214, 2.9046475 ,\n",
       "       2.85929475, 2.88040859, 3.05859905, 4.887796  , 2.9498077 ,\n",
       "       3.56380231, 3.19807842, 3.23454623, 3.13160977, 2.91953033,\n",
       "       3.40881452, 5.14971742, 3.3880543 , 3.47532048, 4.06445536,\n",
       "       2.99160333, 3.05775424, 2.92524412, 3.40956678, 4.0539009 ,\n",
       "       3.24131106, 3.05199248, 3.5086177 , 3.77905785, 3.39840492,\n",
       "       2.958202  , 3.41678106, 3.49152559, 2.93252155, 2.84976001,\n",
       "       3.45715994, 2.97973817, 2.88247325, 2.96540477, 3.57569249,\n",
       "       3.1701816 , 3.42415175, 3.05214363, 3.19679883, 3.6708537 ,\n",
       "       3.23926966, 3.21802764, 3.0425246 , 3.00975248, 2.95739516,\n",
       "       2.9815112 , 3.32417543, 3.19807842, 3.09960017, 3.10615018,\n",
       "       3.17779946, 2.95968776, 3.0370479 , 3.39531806, 2.98331533])"
      ]
     },
     "execution_count": 14,
     "metadata": {},
     "output_type": "execute_result"
    }
   ],
   "source": [
    "clf.scores"
   ]
  },
  {
   "cell_type": "markdown",
   "metadata": {},
   "source": [
    "## Hepatitis"
   ]
  },
  {
   "cell_type": "code",
   "execution_count": 15,
   "metadata": {},
   "outputs": [
    {
     "name": "stdout",
     "output_type": "stream",
     "text": [
      "(70, 95)\n",
      "[2020-12-05 11:56:43+0100] INFO - prefect.FlowRunner | Beginning Flow run for 'fit'\n"
     ]
    },
    {
     "name": "stderr",
     "output_type": "stream",
     "text": [
      "INFO:prefect.FlowRunner:Beginning Flow run for 'fit'\n"
     ]
    },
    {
     "name": "stdout",
     "output_type": "stream",
     "text": [
      "[2020-12-05 11:56:43+0100] INFO - prefect.TaskRunner | Task 'ShellTask': Starting task run...\n"
     ]
    },
    {
     "name": "stderr",
     "output_type": "stream",
     "text": [
      "INFO:prefect.TaskRunner:Task 'ShellTask': Starting task run...\n"
     ]
    },
    {
     "name": "stdout",
     "output_type": "stream",
     "text": [
      "[2020-12-05 11:56:57+0100] INFO - prefect.TaskRunner | Task 'ShellTask': Finished task run for task with final state: 'Success'\n"
     ]
    },
    {
     "name": "stderr",
     "output_type": "stream",
     "text": [
      "INFO:prefect.TaskRunner:Task 'ShellTask': Finished task run for task with final state: 'Success'\n"
     ]
    },
    {
     "name": "stdout",
     "output_type": "stream",
     "text": [
      "[2020-12-05 11:56:57+0100] INFO - prefect.FlowRunner | Flow run SUCCESS: all reference tasks succeeded\n"
     ]
    },
    {
     "name": "stderr",
     "output_type": "stream",
     "text": [
      "INFO:prefect.FlowRunner:Flow run SUCCESS: all reference tasks succeeded\n"
     ]
    }
   ],
   "source": [
    "df = datasets[\"hepatitis_hidim\"]\n",
    "X = df[[c for c in df.columns if c != \"Y\"]].values\n",
    "y = df.Y.values\n",
    "\n",
    "print(X.shape)\n",
    "\n",
    "clf.fit(X)"
   ]
  },
  {
   "cell_type": "code",
   "execution_count": 16,
   "metadata": {},
   "outputs": [
    {
     "data": {
      "text/plain": [
       "array([1.08090157, 1.02993063, 1.0060091 , 1.01387941, 0.99484316,\n",
       "       1.09968231, 1.00290502, 0.98521475, 0.96905462, 0.98384016,\n",
       "       1.01912587, 1.09047177, 1.10887601, 1.02040623, 1.05637999,\n",
       "       0.99167379, 0.99481854, 1.00610286, 1.03499182, 1.00608641,\n",
       "       1.02779054, 1.00963669, 1.04133423, 1.01605345, 0.96635863,\n",
       "       0.98160455, 1.02233758, 1.0312645 , 1.07097636, 1.01483506,\n",
       "       1.01462735, 1.02400833, 1.00635475, 0.98926791, 1.05752417,\n",
       "       1.00878429, 1.01365139, 1.00922788, 1.12614853, 0.98975563,\n",
       "       0.99940736, 0.9853391 , 1.03430203, 0.98792945, 0.97746248,\n",
       "       0.97852983, 0.99308466, 1.01162025, 0.98271738, 0.99158822,\n",
       "       1.00976035, 1.19838423, 1.02961213, 0.9896861 , 1.02552996,\n",
       "       0.98760749, 1.02441055, 0.98816887, 1.02398834, 1.02785999,\n",
       "       0.98916502, 0.98534177, 0.98820512, 1.00989067, 0.97397051,\n",
       "       0.98852647, 0.99495594, 0.99316531, 0.98637279, 1.05575966])"
      ]
     },
     "execution_count": 16,
     "metadata": {},
     "output_type": "execute_result"
    }
   ],
   "source": [
    "clf.scores"
   ]
  },
  {
   "cell_type": "code",
   "execution_count": 17,
   "metadata": {},
   "outputs": [
    {
     "data": {
      "text/plain": [
       "0.05"
      ]
     },
     "execution_count": 17,
     "metadata": {},
     "output_type": "execute_result"
    }
   ],
   "source": [
    "clf.contamination"
   ]
  },
  {
   "cell_type": "code",
   "execution_count": 18,
   "metadata": {},
   "outputs": [
    {
     "name": "stdout",
     "output_type": "stream",
     "text": [
      "[0 0 0 0 0 0 0 0 0 0 0 0 0 0 0 0 0 0 0 0 0 0 0 0 0 0 0 0 0 0 0 0 0 0 0 0 0\n",
      " 0 0 0 0 0 0 0 0 0 0 0 0 0 0 0 0 0 0 0 0 0 0 0 0 0 0 0 0 0 0 1 1 1]\n"
     ]
    }
   ],
   "source": [
    "print(y)"
   ]
  },
  {
   "cell_type": "markdown",
   "metadata": {},
   "source": [
    "## Parkinson HD"
   ]
  },
  {
   "cell_type": "code",
   "execution_count": 19,
   "metadata": {},
   "outputs": [
    {
     "name": "stdout",
     "output_type": "stream",
     "text": [
      "(50, 110)\n",
      "[2020-12-05 11:56:57+0100] INFO - prefect.FlowRunner | Beginning Flow run for 'fit'\n"
     ]
    },
    {
     "name": "stderr",
     "output_type": "stream",
     "text": [
      "INFO:prefect.FlowRunner:Beginning Flow run for 'fit'\n"
     ]
    },
    {
     "name": "stdout",
     "output_type": "stream",
     "text": [
      "[2020-12-05 11:56:57+0100] INFO - prefect.TaskRunner | Task 'ShellTask': Starting task run...\n"
     ]
    },
    {
     "name": "stderr",
     "output_type": "stream",
     "text": [
      "INFO:prefect.TaskRunner:Task 'ShellTask': Starting task run...\n"
     ]
    },
    {
     "name": "stdout",
     "output_type": "stream",
     "text": [
      "[2020-12-05 11:57:04+0100] INFO - prefect.TaskRunner | Task 'ShellTask': Finished task run for task with final state: 'Success'\n"
     ]
    },
    {
     "name": "stderr",
     "output_type": "stream",
     "text": [
      "INFO:prefect.TaskRunner:Task 'ShellTask': Finished task run for task with final state: 'Success'\n"
     ]
    },
    {
     "name": "stdout",
     "output_type": "stream",
     "text": [
      "[2020-12-05 11:57:04+0100] INFO - prefect.FlowRunner | Flow run SUCCESS: all reference tasks succeeded\n"
     ]
    },
    {
     "name": "stderr",
     "output_type": "stream",
     "text": [
      "INFO:prefect.FlowRunner:Flow run SUCCESS: all reference tasks succeeded\n"
     ]
    }
   ],
   "source": [
    "df = datasets[\"parkinson_hidim\"]\n",
    "X = df[[c for c in df.columns if c != \"Y\"]].values\n",
    "y = df.Y.values\n",
    "\n",
    "print(X.shape)\n",
    "\n",
    "clf.fit(X)"
   ]
  },
  {
   "cell_type": "code",
   "execution_count": 20,
   "metadata": {},
   "outputs": [
    {
     "data": {
      "text/plain": [
       "array([1.17883767, 1.50919857, 1.18972222, 1.25312891, 1.23489502,\n",
       "       1.31028777, 1.32121486, 1.28263983, 0.98114417, 0.9848559 ,\n",
       "       0.96862549, 0.96736693, 0.99720755, 1.04603946, 1.0456078 ,\n",
       "       1.00987846, 1.01453798, 1.02639321, 1.01242358, 0.98094137,\n",
       "       1.05753138, 1.05100487, 1.07973194, 1.07997049, 1.02963689,\n",
       "       1.07035626, 1.00199652, 0.99885552, 1.02359379, 1.17055334,\n",
       "       1.15275999, 1.00287902, 0.99453774, 0.98332843, 0.98582988,\n",
       "       0.96748442, 0.98384548, 1.07857977, 1.43604128, 1.21142765,\n",
       "       1.39766375, 1.43079317, 1.7459443 , 1.35789397, 1.22121228,\n",
       "       1.28902769, 1.23451635, 1.87338733, 1.64515537, 1.36298934])"
      ]
     },
     "execution_count": 20,
     "metadata": {},
     "output_type": "execute_result"
    }
   ],
   "source": [
    "clf.scores"
   ]
  },
  {
   "cell_type": "code",
   "execution_count": 21,
   "metadata": {},
   "outputs": [
    {
     "data": {
      "text/plain": [
       "array([0., 0., 0., 0., 0., 0., 0., 0., 0., 0., 0., 0., 0., 0., 0., 0., 0.,\n",
       "       0., 0., 0., 0., 0., 0., 0., 0., 0., 0., 0., 0., 0., 0., 0., 0., 0.,\n",
       "       0., 0., 0., 0., 0., 0., 0., 0., 1., 0., 0., 0., 0., 1., 0., 0.])"
      ]
     },
     "execution_count": 21,
     "metadata": {},
     "output_type": "execute_result"
    }
   ],
   "source": [
    "clf.labels"
   ]
  },
  {
   "cell_type": "code",
   "execution_count": 22,
   "metadata": {},
   "outputs": [
    {
     "name": "stdout",
     "output_type": "stream",
     "text": [
      "[1 1 0 0 0 0 0 0 0 0 0 0 0 0 0 0 0 0 0 0 0 0 0 0 0 0 0 0 0 0 0 0 0 0 0 0 0\n",
      " 0 0 0 0 0 0 0 0 0 0 0 0 0]\n"
     ]
    }
   ],
   "source": [
    "print(y)"
   ]
  },
  {
   "cell_type": "markdown",
   "metadata": {},
   "source": [
    "## Parkinson LD"
   ]
  },
  {
   "cell_type": "code",
   "execution_count": 23,
   "metadata": {},
   "outputs": [
    {
     "name": "stdout",
     "output_type": "stream",
     "text": [
      "(50, 22)\n",
      "[2020-12-05 11:57:04+0100] INFO - prefect.FlowRunner | Beginning Flow run for 'fit'\n"
     ]
    },
    {
     "name": "stderr",
     "output_type": "stream",
     "text": [
      "INFO:prefect.FlowRunner:Beginning Flow run for 'fit'\n"
     ]
    },
    {
     "name": "stdout",
     "output_type": "stream",
     "text": [
      "[2020-12-05 11:57:04+0100] INFO - prefect.TaskRunner | Task 'ShellTask': Starting task run...\n"
     ]
    },
    {
     "name": "stderr",
     "output_type": "stream",
     "text": [
      "INFO:prefect.TaskRunner:Task 'ShellTask': Starting task run...\n"
     ]
    },
    {
     "name": "stdout",
     "output_type": "stream",
     "text": [
      "[2020-12-05 11:57:13+0100] INFO - prefect.TaskRunner | Task 'ShellTask': Finished task run for task with final state: 'Success'\n"
     ]
    },
    {
     "name": "stderr",
     "output_type": "stream",
     "text": [
      "INFO:prefect.TaskRunner:Task 'ShellTask': Finished task run for task with final state: 'Success'\n"
     ]
    },
    {
     "name": "stdout",
     "output_type": "stream",
     "text": [
      "[2020-12-05 11:57:13+0100] INFO - prefect.FlowRunner | Flow run SUCCESS: all reference tasks succeeded\n"
     ]
    },
    {
     "name": "stderr",
     "output_type": "stream",
     "text": [
      "INFO:prefect.FlowRunner:Flow run SUCCESS: all reference tasks succeeded\n"
     ]
    }
   ],
   "source": [
    "df = datasets[\"parkinson_lodim\"]\n",
    "X = df[df.columns[:-2]].values\n",
    "y = np.array([1 if v == \"'yes'\" else 0 for v in df[df.columns[-1]].values])\n",
    "\n",
    "print(X.shape)\n",
    "\n",
    "clf.fit(X)"
   ]
  },
  {
   "cell_type": "code",
   "execution_count": 24,
   "metadata": {},
   "outputs": [
    {
     "data": {
      "text/plain": [
       "array([29.32475948, 21.95694026, 17.38266336, 18.32086942, 17.21383597,\n",
       "       18.44672553, 19.38111097, 18.3839736 , 14.94096644, 15.0163616 ,\n",
       "       14.8214936 , 14.84884354, 14.80141039, 17.85503011, 17.09798886,\n",
       "       14.76669904, 15.9630236 , 16.05591498, 17.01307461, 18.64893863,\n",
       "       16.05090279, 15.69021231, 15.88834804, 15.29037542, 15.78630653,\n",
       "       16.12876093, 16.8875634 , 14.65873752, 17.72934149, 19.77247841,\n",
       "       18.24397327, 16.95958366, 14.63573792, 14.66500136, 14.80369932,\n",
       "       14.78585763, 14.73978208, 14.76811392, 19.0584965 , 22.38063197,\n",
       "       19.07760614, 26.26151387, 31.60963768, 20.18862268, 18.09956587,\n",
       "       19.24209111, 18.29534979, 28.27657353, 20.38473887, 20.1217524 ])"
      ]
     },
     "execution_count": 24,
     "metadata": {},
     "output_type": "execute_result"
    }
   ],
   "source": [
    "clf.scores"
   ]
  },
  {
   "cell_type": "code",
   "execution_count": 25,
   "metadata": {},
   "outputs": [
    {
     "data": {
      "text/plain": [
       "array([1., 0., 0., 0., 0., 0., 0., 0., 0., 0., 0., 0., 0., 0., 0., 0., 0.,\n",
       "       0., 0., 0., 0., 0., 0., 0., 0., 0., 0., 0., 0., 0., 0., 0., 0., 0.,\n",
       "       0., 0., 0., 0., 0., 0., 0., 0., 1., 0., 0., 0., 0., 0., 0., 0.])"
      ]
     },
     "execution_count": 25,
     "metadata": {},
     "output_type": "execute_result"
    }
   ],
   "source": [
    "clf.labels"
   ]
  },
  {
   "cell_type": "code",
   "execution_count": 26,
   "metadata": {},
   "outputs": [
    {
     "name": "stdout",
     "output_type": "stream",
     "text": [
      "[1 1 0 0 0 0 0 0 0 0 0 0 0 0 0 0 0 0 0 0 0 0 0 0 0 0 0 0 0 0 0 0 0 0 0 0 0\n",
      " 0 0 0 0 0 0 0 0 0 0 0 0 0]\n"
     ]
    }
   ],
   "source": [
    "print(y)"
   ]
  },
  {
   "cell_type": "markdown",
   "metadata": {},
   "source": [
    "## Parkinson LD 02"
   ]
  },
  {
   "cell_type": "code",
   "execution_count": 27,
   "metadata": {},
   "outputs": [
    {
     "name": "stdout",
     "output_type": "stream",
     "text": [
      "(50, 22)\n",
      "[2020-12-05 11:57:13+0100] INFO - prefect.FlowRunner | Beginning Flow run for 'fit'\n"
     ]
    },
    {
     "name": "stderr",
     "output_type": "stream",
     "text": [
      "INFO:prefect.FlowRunner:Beginning Flow run for 'fit'\n"
     ]
    },
    {
     "name": "stdout",
     "output_type": "stream",
     "text": [
      "[2020-12-05 11:57:13+0100] INFO - prefect.TaskRunner | Task 'ShellTask': Starting task run...\n"
     ]
    },
    {
     "name": "stderr",
     "output_type": "stream",
     "text": [
      "INFO:prefect.TaskRunner:Task 'ShellTask': Starting task run...\n"
     ]
    },
    {
     "name": "stdout",
     "output_type": "stream",
     "text": [
      "[2020-12-05 11:57:22+0100] INFO - prefect.TaskRunner | Task 'ShellTask': Finished task run for task with final state: 'Success'\n"
     ]
    },
    {
     "name": "stderr",
     "output_type": "stream",
     "text": [
      "INFO:prefect.TaskRunner:Task 'ShellTask': Finished task run for task with final state: 'Success'\n"
     ]
    },
    {
     "name": "stdout",
     "output_type": "stream",
     "text": [
      "[2020-12-05 11:57:22+0100] INFO - prefect.FlowRunner | Flow run SUCCESS: all reference tasks succeeded\n"
     ]
    },
    {
     "name": "stderr",
     "output_type": "stream",
     "text": [
      "INFO:prefect.FlowRunner:Flow run SUCCESS: all reference tasks succeeded\n"
     ]
    }
   ],
   "source": [
    "df = datasets[\"parkison_lodim_02\"]\n",
    "X = df[df.columns[:-2]].values\n",
    "y = np.array([1 if v == \"'yes'\" else 0 for v in df[df.columns[-1]].values])\n",
    "\n",
    "print(X.shape)\n",
    "\n",
    "clf.fit(X)"
   ]
  },
  {
   "cell_type": "code",
   "execution_count": 28,
   "metadata": {},
   "outputs": [
    {
     "data": {
      "text/plain": [
       "array([147.87330865,  38.23183743,  36.1208883 ,  37.92993383,\n",
       "        36.72303048,  37.27858963,  38.03564852,  37.73151999,\n",
       "        31.13367544,  31.0367414 ,  31.14675863,  31.56583984,\n",
       "        35.57473365,  52.09663919,  35.91498855,  35.92225551,\n",
       "        36.99679982,  36.45470669,  38.73433422,  39.58930481,\n",
       "        36.79930068,  35.65224511,  41.39959114,  34.29387565,\n",
       "        32.15189384,  33.96944072,  31.45562846,  31.58307971,\n",
       "        50.53051718,  32.41295999,  30.65164468,  41.16364934,\n",
       "        32.62908595,  40.56584023,  35.18065011,  33.82102422,\n",
       "        32.25766058,  30.62926229,  31.89018102,  78.04204257,\n",
       "        69.28443769, 173.94604449, 169.55348486,  34.37014463,\n",
       "        42.9486013 ,  49.02601878,  41.61385143,  51.78180312,\n",
       "       117.29926223,  44.96311812])"
      ]
     },
     "execution_count": 28,
     "metadata": {},
     "output_type": "execute_result"
    }
   ],
   "source": [
    "clf.scores"
   ]
  },
  {
   "cell_type": "code",
   "execution_count": null,
   "metadata": {},
   "outputs": [],
   "source": []
  },
  {
   "cell_type": "code",
   "execution_count": null,
   "metadata": {},
   "outputs": [],
   "source": []
  },
  {
   "cell_type": "code",
   "execution_count": null,
   "metadata": {},
   "outputs": [],
   "source": []
  },
  {
   "cell_type": "code",
   "execution_count": null,
   "metadata": {},
   "outputs": [],
   "source": []
  },
  {
   "cell_type": "code",
   "execution_count": 29,
   "metadata": {},
   "outputs": [
    {
     "data": {
      "text/plain": [
       "array([41, 42])"
      ]
     },
     "execution_count": 29,
     "metadata": {},
     "output_type": "execute_result"
    }
   ],
   "source": [
    "np.where(clf.labels == 1)[0]"
   ]
  },
  {
   "cell_type": "code",
   "execution_count": 30,
   "metadata": {},
   "outputs": [
    {
     "data": {
      "text/plain": [
       "'java -jar /home/zissou/repos/elki_interface/src/elki_interface/elki.jar KDDCLIApplication -db HashmapDatabase -dbc.in /tmp/tmpi53e2eeh.csv -algorithm outlier.meta.HiCS -lof.k 8 -evaluator NoAutomaticEvaluation -resulthandler tutorial.outlier.SimpleScoreDumper'"
      ]
     },
     "execution_count": 30,
     "metadata": {},
     "output_type": "execute_result"
    }
   ],
   "source": [
    "clf.fit_command"
   ]
  }
 ],
 "metadata": {
  "kernelspec": {
   "display_name": "elki_interface",
   "language": "python",
   "name": "elki_interface"
  },
  "language_info": {
   "codemirror_mode": {
    "name": "ipython",
    "version": 3
   },
   "file_extension": ".py",
   "mimetype": "text/x-python",
   "name": "python",
   "nbconvert_exporter": "python",
   "pygments_lexer": "ipython3",
   "version": "3.8.5"
  },
  "toc-autonumbering": true
 },
 "nbformat": 4,
 "nbformat_minor": 4
}
